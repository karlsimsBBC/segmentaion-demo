{
 "cells": [
  {
   "cell_type": "markdown",
   "metadata": {},
   "source": [
    "# Image segmentation with u-net\n",
    "\n",
    "Creating image segmentation model with keras and u-net model. Model is built then converted for tesnorflow JS, for use in the browser.\n",
    "\n",
    "Using [matting-human-datasets](https://www.kaggle.com/laurentmih/aisegmentcom-matting-human-datasets); using a 15,000 image sample resized to (400, 300)."
   ]
  },
  {
   "cell_type": "code",
   "execution_count": 1,
   "metadata": {},
   "outputs": [
    {
     "name": "stderr",
     "output_type": "stream",
     "text": [
      "Using TensorFlow backend.\n"
     ]
    }
   ],
   "source": [
    "import numpy as np\n",
    "import pandas as pd\n",
    "import matplotlib.pyplot as plt\n",
    "import cv2\n",
    "from sklearn.model_selection import train_test_split\n",
    "\n",
    "from skimage.transform import resize\n",
    "\n",
    "from keras.callbacks import EarlyStopping, ModelCheckpoint\n",
    "\n",
    "from batches import batch_generator, test_generator, expand_path, load_images, load_image_masks\n",
    "from utils import show_images\n",
    "from model import build_u_net_model\n",
    "\n",
    "%matplotlib inline"
   ]
  },
  {
   "cell_type": "code",
   "execution_count": 2,
   "metadata": {},
   "outputs": [
    {
     "name": "stdout",
     "output_type": "stream",
     "text": [
      "14999\n"
     ]
    }
   ],
   "source": [
    "df_all = pd.read_csv('./dataset/images.csv')\n",
    "print(df_all.size)"
   ]
  },
  {
   "cell_type": "markdown",
   "metadata": {},
   "source": [
    "## Original images\n",
    "\n",
    "For each image we have the original and a copy with the background removed. We will used the subtracted image to generate background masks."
   ]
  },
  {
   "cell_type": "code",
   "execution_count": 4,
   "metadata": {},
   "outputs": [
    {
     "data": {
      "application/vnd.jupyter.widget-view+json": {
       "model_id": "b9fa97b57977454398e422ef84f86ea9",
       "version_major": 2,
       "version_minor": 0
      },
      "text/plain": [
       "interactive(children=(IntSlider(value=5, description='x', max=11), Output()), _dom_classes=('widget-interact',…"
      ]
     },
     "metadata": {},
     "output_type": "display_data"
    }
   ],
   "source": [
    "taster_ids = list(df_all['image_id'][:12])\n",
    "size = len(taster_ids)\n",
    "\n",
    "images = load_images(taster_ids, (size, 400, 300, 3))\n",
    "alphas = load_images(taster_ids, (size, 400, 300, 4), kind='matting')\n",
    "masks =  load_image_masks(taster_ids, (size, 400, 300, 3))\n",
    "\n",
    "show_images([images, alphas, masks], titles=['img', 'matting', 'mask'])"
   ]
  },
  {
   "cell_type": "markdown",
   "metadata": {},
   "source": [
    "## Splitting into train, validation and test sets\n",
    "\n",
    "* test: 500\n",
    "* training: 80%\n",
    "* validation: 20%\n",
    "\n",
    "Also resize images to 128x128."
   ]
  },
  {
   "cell_type": "code",
   "execution_count": 5,
   "metadata": {},
   "outputs": [],
   "source": [
    "train_path = './dataset/train.csv.gz'\n",
    "validation_path = './dataset/validation.csv.gz'\n",
    "test_path = './dataset/test.csv.gz'"
   ]
  },
  {
   "cell_type": "code",
   "execution_count": 9,
   "metadata": {},
   "outputs": [
    {
     "name": "stdout",
     "output_type": "stream",
     "text": [
      "training data: (11599, 1)\n",
      "validation data: (2900, 1)\n",
      "testing data: (500, 1)\n"
     ]
    }
   ],
   "source": [
    "df_all = df_all.sample(frac=1, random_state=1)\n",
    "df_data, df_test = df_all[500:], df_all[:500]\n",
    "\n",
    "df_train, df_validation = train_test_split(df_data, test_size=0.2, random_state=101)\n",
    "\n",
    "df_train = df_train.reset_index(drop=True)\n",
    "df_validation = df_validation.reset_index(drop=True)\n",
    "df_test = df_test.reset_index(drop=True)\n",
    "\n",
    "print('training data:', df_train.shape)\n",
    "print('validation data:', df_validation.shape)\n",
    "print('testing data:', df_test.shape)\n",
    "\n",
    "df_train.to_csv(train_path, compression='gzip', index=False)\n",
    "df_validation.to_csv(validation_path, compression='gzip', index=False)\n",
    "df_test.to_csv(test_path, compression='gzip', index=False)"
   ]
  },
  {
   "cell_type": "code",
   "execution_count": 10,
   "metadata": {},
   "outputs": [],
   "source": [
    "train_generator = batch_generator(train_path)\n",
    "validation_generator = batch_generator(validation_path)"
   ]
  },
  {
   "cell_type": "code",
   "execution_count": 11,
   "metadata": {},
   "outputs": [
    {
     "name": "stdout",
     "output_type": "stream",
     "text": [
      "(10, 128, 128, 3) (10, 128, 128, 1)\n"
     ]
    },
    {
     "data": {
      "application/vnd.jupyter.widget-view+json": {
       "model_id": "090b65bf90114270a141d9656aa4acf0",
       "version_major": 2,
       "version_minor": 0
      },
      "text/plain": [
       "interactive(children=(IntSlider(value=4, description='x', max=9), Output()), _dom_classes=('widget-interact',)…"
      ]
     },
     "metadata": {},
     "output_type": "display_data"
    }
   ],
   "source": [
    "train_X, train_Y = next(train_generator)\n",
    "print(train_X.shape, train_Y.shape)\n",
    "show_images([train_X, train_Y], titles=['X (train img)', 'Y (train mask)'])"
   ]
  },
  {
   "cell_type": "code",
   "execution_count": 12,
   "metadata": {},
   "outputs": [
    {
     "name": "stdout",
     "output_type": "stream",
     "text": [
      "(10, 128, 128, 3) (10, 128, 128, 1)\n"
     ]
    },
    {
     "data": {
      "application/vnd.jupyter.widget-view+json": {
       "model_id": "86e6568b5cc74566a6b930a560d08409",
       "version_major": 2,
       "version_minor": 0
      },
      "text/plain": [
       "interactive(children=(IntSlider(value=4, description='x', max=9), Output()), _dom_classes=('widget-interact',)…"
      ]
     },
     "metadata": {},
     "output_type": "display_data"
    }
   ],
   "source": [
    "val_X, val_Y = next(validation_generator)\n",
    "print(val_X.shape, val_Y.shape)\n",
    "show_images([val_X, val_Y], titles=['X (validation img)', 'Y (validation mask)'])"
   ]
  },
  {
   "cell_type": "markdown",
   "metadata": {},
   "source": [
    "## Training"
   ]
  },
  {
   "cell_type": "code",
   "execution_count": 8,
   "metadata": {},
   "outputs": [],
   "source": [
    "model = build_u_net_model()"
   ]
  },
  {
   "cell_type": "code",
   "execution_count": 10,
   "metadata": {},
   "outputs": [
    {
     "name": "stdout",
     "output_type": "stream",
     "text": [
      "116.0 29.0\n",
      "Epoch 1/20\n",
      "116/116 [==============================] - 860s 7s/step - loss: 0.2899 - val_loss: 0.3531\n",
      "\n",
      "Epoch 00001: val_loss improved from inf to 0.35305, saving model to model.h5\n",
      "Epoch 2/20\n",
      "116/116 [==============================] - 834s 7s/step - loss: 0.1559 - val_loss: 0.2812\n",
      "\n",
      "Epoch 00002: val_loss improved from 0.35305 to 0.28124, saving model to model.h5\n",
      "Epoch 3/20\n",
      "116/116 [==============================] - 871s 8s/step - loss: 0.1150 - val_loss: 0.4668\n",
      "\n",
      "Epoch 00003: val_loss did not improve from 0.28124\n",
      "Epoch 4/20\n",
      "116/116 [==============================] - 818s 7s/step - loss: 0.0920 - val_loss: 0.1206\n",
      "\n",
      "Epoch 00004: val_loss improved from 0.28124 to 0.12058, saving model to model.h5\n",
      "Epoch 5/20\n",
      "116/116 [==============================] - 841s 7s/step - loss: 0.0782 - val_loss: 0.1059\n",
      "\n",
      "Epoch 00005: val_loss improved from 0.12058 to 0.10590, saving model to model.h5\n",
      "Epoch 6/20\n",
      "116/116 [==============================] - 823s 7s/step - loss: 0.0670 - val_loss: 0.0848\n",
      "\n",
      "Epoch 00006: val_loss improved from 0.10590 to 0.08478, saving model to model.h5\n",
      "Epoch 7/20\n",
      "116/116 [==============================] - 848s 7s/step - loss: 0.0611 - val_loss: 0.0796\n",
      "\n",
      "Epoch 00007: val_loss improved from 0.08478 to 0.07965, saving model to model.h5\n",
      "Epoch 8/20\n",
      "116/116 [==============================] - 802s 7s/step - loss: 0.0555 - val_loss: 0.0789\n",
      "\n",
      "Epoch 00008: val_loss improved from 0.07965 to 0.07885, saving model to model.h5\n",
      "Epoch 9/20\n",
      "116/116 [==============================] - 770s 7s/step - loss: 0.0505 - val_loss: 0.0636\n",
      "\n",
      "Epoch 00009: val_loss improved from 0.07885 to 0.06359, saving model to model.h5\n",
      "Epoch 10/20\n",
      "116/116 [==============================] - 773s 7s/step - loss: 0.0474 - val_loss: 0.0588\n",
      "\n",
      "Epoch 00010: val_loss improved from 0.06359 to 0.05879, saving model to model.h5\n",
      "Epoch 11/20\n",
      "116/116 [==============================] - 804s 7s/step - loss: 0.0428 - val_loss: 0.0744\n",
      "\n",
      "Epoch 00011: val_loss did not improve from 0.05879\n",
      "Epoch 12/20\n",
      "116/116 [==============================] - 783s 7s/step - loss: 0.0414 - val_loss: 0.0628\n",
      "\n",
      "Epoch 00012: val_loss did not improve from 0.05879\n",
      "Epoch 13/20\n",
      "116/116 [==============================] - 735s 6s/step - loss: 0.0405 - val_loss: 0.0583\n",
      "\n",
      "Epoch 00013: val_loss improved from 0.05879 to 0.05834, saving model to model.h5\n",
      "Epoch 14/20\n",
      "116/116 [==============================] - 17606s 152s/step - loss: 0.0367 - val_loss: 0.0553\n",
      "\n",
      "Epoch 00014: val_loss improved from 0.05834 to 0.05527, saving model to model.h5\n",
      "Epoch 15/20\n",
      "116/116 [==============================] - 12837s 111s/step - loss: 0.0345 - val_loss: 0.0549\n",
      "\n",
      "Epoch 00015: val_loss improved from 0.05527 to 0.05489, saving model to model.h5\n",
      "Epoch 16/20\n",
      "116/116 [==============================] - 1041s 9s/step - loss: 0.0331 - val_loss: 0.0633\n",
      "\n",
      "Epoch 00016: val_loss did not improve from 0.05489\n",
      "Epoch 17/20\n",
      "116/116 [==============================] - 813s 7s/step - loss: 0.0321 - val_loss: 0.0535\n",
      "\n",
      "Epoch 00017: val_loss improved from 0.05489 to 0.05351, saving model to model.h5\n",
      "Epoch 18/20\n",
      "116/116 [==============================] - 834s 7s/step - loss: 0.0319 - val_loss: 0.0505\n",
      "\n",
      "Epoch 00018: val_loss improved from 0.05351 to 0.05048, saving model to model.h5\n",
      "Epoch 19/20\n",
      "116/116 [==============================] - 836s 7s/step - loss: 0.0320 - val_loss: 0.0491\n",
      "\n",
      "Epoch 00019: val_loss improved from 0.05048 to 0.04910, saving model to model.h5\n",
      "Epoch 20/20\n",
      "116/116 [==============================] - 841s 7s/step - loss: 0.0317 - val_loss: 0.0504\n",
      "\n",
      "Epoch 00020: val_loss did not improve from 0.04910\n"
     ]
    }
   ],
   "source": [
    "BATCH_SIZE = 100\n",
    "\n",
    "num_train_samples = len(df_train)\n",
    "num_val_samples = len(df_validation)\n",
    "train_batch_size = BATCH_SIZE\n",
    "val_batch_size = BATCH_SIZE\n",
    "\n",
    "# determine numtrain steps\n",
    "train_steps = np.ceil(num_train_samples / train_batch_size)\n",
    "# determine num val steps\n",
    "val_steps = np.ceil(num_val_samples / val_batch_size)\n",
    "print(train_steps, val_steps)\n",
    "\n",
    "# Initialize the generators\n",
    "train_generator = batch_generator(train_path, batch_size=BATCH_SIZE)\n",
    "validation_generator = batch_generator(validation_path, batch_size=BATCH_SIZE)\n",
    "\n",
    "\n",
    "filepath = \"model.h5\"\n",
    "\n",
    "earlystopper = EarlyStopping(patience=3, verbose=1)\n",
    "checkpoint = ModelCheckpoint(filepath, monitor='val_loss', verbose=1, save_best_only=True)\n",
    "\n",
    "callbacks_list = [earlystopper, checkpoint]\n",
    "\n",
    "history = model.fit_generator(train_generator, \n",
    "                              steps_per_epoch=train_steps, \n",
    "                              epochs=20, \n",
    "                              validation_data=validation_generator, \n",
    "                              validation_steps=val_steps,\n",
    "                              verbose=1,\n",
    "                              callbacks=callbacks_list)"
   ]
  },
  {
   "cell_type": "markdown",
   "metadata": {},
   "source": [
    "## Predictions"
   ]
  },
  {
   "cell_type": "code",
   "execution_count": 13,
   "metadata": {},
   "outputs": [
    {
     "name": "stdout",
     "output_type": "stream",
     "text": [
      "500/500 [==============================] - 23s 47ms/step\n"
     ]
    }
   ],
   "source": [
    "test_gen = test_generator(test_path, batch_size=1)\n",
    "\n",
    "model.load_weights('model.h5')\n",
    "predictions = model.predict_generator(test_gen, \n",
    "                                      steps=len(df_test),  \n",
    "                                      verbose=1)"
   ]
  },
  {
   "cell_type": "code",
   "execution_count": 14,
   "metadata": {},
   "outputs": [
    {
     "data": {
      "text/plain": [
       "(500, 128, 128, 1)"
      ]
     },
     "execution_count": 14,
     "metadata": {},
     "output_type": "execute_result"
    }
   ],
   "source": [
    "predictions.shape"
   ]
  },
  {
   "cell_type": "code",
   "execution_count": 15,
   "metadata": {},
   "outputs": [
    {
     "data": {
      "text/plain": [
       "(500, 400, 300, 1)"
      ]
     },
     "execution_count": 15,
     "metadata": {},
     "output_type": "execute_result"
    }
   ],
   "source": [
    "# get the list of images\n",
    "test_id_list = list(df_test['image_id'])\n",
    "\n",
    "\n",
    "for i, image_id in enumerate(test_id_list):\n",
    "    if i == 0:\n",
    "        # get a predicted mask\n",
    "        image = predictions[i]\n",
    "        # resize\n",
    "        preds = resize(image, (400, 300))\n",
    "        # reshape\n",
    "        preds = preds.reshape((1, 400, 300, 1))\n",
    "    else:\n",
    "        # get a predicted mask\n",
    "        image = predictions[i]\n",
    "        # resize\n",
    "        image = resize(image, (400, 300))        \n",
    "        # reshape\n",
    "        image = image.reshape((1, 400, 300, 1))\n",
    "        # stack the images\n",
    "        preds = np.vstack((preds, image))\n",
    "\n",
    "\n",
    "preds.shape"
   ]
  },
  {
   "cell_type": "code",
   "execution_count": 20,
   "metadata": {},
   "outputs": [
    {
     "name": "stdout",
     "output_type": "stream",
     "text": [
      "0\n",
      "1\n"
     ]
    }
   ],
   "source": [
    "# Threshold the predictions\n",
    "\n",
    "preds_test_thresh = (preds >= 0.5).astype(np.uint8)\n",
    "\n",
    "preds_test_thresh.shape\n",
    "\n",
    "print(preds_test_thresh.min())\n",
    "print(preds_test_thresh.max())"
   ]
  },
  {
   "cell_type": "code",
   "execution_count": 21,
   "metadata": {},
   "outputs": [
    {
     "name": "stdout",
     "output_type": "stream",
     "text": [
      "0\n",
      "255\n"
     ]
    }
   ],
   "source": [
    "# simply multiply by 255\n",
    "alpha_preds = preds_test_thresh * 255\n",
    "\n",
    "print(alpha_preds.min())\n",
    "print(alpha_preds.max())"
   ]
  },
  {
   "cell_type": "code",
   "execution_count": 22,
   "metadata": {},
   "outputs": [],
   "source": [
    "x_test_dims = (len(df_test), 400, 300, 3)\n",
    "X_test_orig = load_images(test_id_list, x_test_dims)"
   ]
  },
  {
   "cell_type": "code",
   "execution_count": 23,
   "metadata": {},
   "outputs": [
    {
     "name": "stdout",
     "output_type": "stream",
     "text": [
      "(500, 400, 300, 3)\n",
      "(500, 400, 300, 1)\n"
     ]
    }
   ],
   "source": [
    "print(X_test_orig.shape)\n",
    "print(alpha_preds.shape)"
   ]
  },
  {
   "cell_type": "code",
   "execution_count": 24,
   "metadata": {},
   "outputs": [
    {
     "data": {
      "text/plain": [
       "(500, 400, 300, 4)"
      ]
     },
     "execution_count": 24,
     "metadata": {},
     "output_type": "execute_result"
    }
   ],
   "source": [
    "predicted_masks = np.concatenate((X_test_orig, alpha_preds), axis=-1)\n",
    "\n",
    "predicted_masks.shape"
   ]
  },
  {
   "cell_type": "markdown",
   "metadata": {},
   "source": [
    "## Displaying predicted masks"
   ]
  },
  {
   "cell_type": "code",
   "execution_count": 25,
   "metadata": {},
   "outputs": [
    {
     "data": {
      "application/vnd.jupyter.widget-view+json": {
       "model_id": "7ea7fa9f9d054b77b26ec31e8a17ca5e",
       "version_major": 2,
       "version_minor": 0
      },
      "text/plain": [
       "interactive(children=(IntSlider(value=249, description='x', max=499), Output()), _dom_classes=('widget-interac…"
      ]
     },
     "metadata": {},
     "output_type": "display_data"
    }
   ],
   "source": [
    "show_images([X_test_orig, predicted_masks, alpha_preds], titles=[\"orignal\", \"predicted mask\", \"generated output\"])"
   ]
  },
  {
   "cell_type": "code",
   "execution_count": 41,
   "metadata": {},
   "outputs": [],
   "source": [
    "!tensorflowjs_converter --input_format keras model.h5 tfjs/model"
   ]
  },
  {
   "cell_type": "markdown",
   "metadata": {},
   "source": [
    "## further questions\n",
    "\n",
    "* How to smooth the mask results, can this be done in the front end easily or would it be better to retrain model with smoothed masks? \n",
    "* Gradients in masks, how would a feathering effect work?\n",
    "* How to extract proraits from landscape images?\n",
    "* How to autocrop images to focus on people?\n",
    "* How will this work with multiple people in the frame?"
   ]
  },
  {
   "cell_type": "code",
   "execution_count": null,
   "metadata": {},
   "outputs": [],
   "source": []
  }
 ],
 "metadata": {
  "kernelspec": {
   "display_name": "Python 3",
   "language": "python",
   "name": "python3"
  },
  "language_info": {
   "codemirror_mode": {
    "name": "ipython",
    "version": 3
   },
   "file_extension": ".py",
   "mimetype": "text/x-python",
   "name": "python",
   "nbconvert_exporter": "python",
   "pygments_lexer": "ipython3",
   "version": "3.7.5"
  }
 },
 "nbformat": 4,
 "nbformat_minor": 4
}
